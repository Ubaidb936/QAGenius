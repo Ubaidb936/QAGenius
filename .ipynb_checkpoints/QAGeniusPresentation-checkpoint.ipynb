{
 "cells": [
  {
   "cell_type": "code",
   "execution_count": 42,
   "id": "8f3ffb4b-48e0-4b56-ad6d-a5920467419d",
   "metadata": {},
   "outputs": [],
   "source": [
    "#Imports\n",
    "import config \n",
    "import shutil\n",
    "import requests\n",
    "from urllib.parse import urlparse\n",
    "import config\n",
    "import sys\n",
    "from tqdm.notebook import tqdm\n",
    "import pandas as pd\n",
    "from typing import Optional, List, Tuple\n",
    "from langchain_core.language_models import BaseChatModel\n",
    "import json\n",
    "import datasets\n",
    "from langchain.text_splitter import RecursiveCharacterTextSplitter\n",
    "from langchain.docstore.document import Document as LangchainDocument\n",
    "from langchain_community.document_loaders import PyPDFLoader\n",
    "from langchain_community.llms import HuggingFaceHub\n",
    "from langchain_community.chat_models import ChatHuggingFace\n",
    "import os\n",
    "import random\n",
    "import time"
   ]
  },
  {
   "cell_type": "code",
   "execution_count": 43,
   "id": "19e415ef-cbc5-4538-aeb1-ed011c0d0692",
   "metadata": {},
   "outputs": [],
   "source": [
    "pdfPath = config.pdfPath\n",
    "hf_token = config.hf_token\n",
    "model_id = config.model_id\n",
    "title = config.title\n",
    "file_path = config.file_path\n",
    "##ensuring the config.py variables are set\n",
    "if pdfPath is None:\n",
    "    raise ValueError(\"pdfPath is None. Please set the  pdf path in config.py.\")\n",
    "\n",
    "if hf_token is None:\n",
    "    raise ValueError(\"hf_token is None. Please set the huggingFace token in config.py.\")\n",
    "\n",
    "if model_id is None:\n",
    "    raise ValueError(\"model_id is None. Please set the model_id in config.py.\")\n",
    "\n",
    "if title is None:\n",
    "    raise ValueError(\"title is None. Please set the title of the Pdf in config.py.\")\n",
    "\n",
    "if file_path is None:\n",
    "    raise ValueError(\"file_path is None. Please set the local file_path in config.py.\")\n",
    "\n",
    "\n",
    "os.environ['HUGGINGFACEHUB_API_TOKEN'] = hf_token"
   ]
  },
  {
   "cell_type": "code",
   "execution_count": 44,
   "id": "ecf74f1c-c62e-44c5-b865-c5e7015158de",
   "metadata": {},
   "outputs": [
    {
     "name": "stderr",
     "output_type": "stream",
     "text": [
      "WARNING! repo_id is not default parameter.\n",
      "                    repo_id was transferred to model_kwargs.\n",
      "                    Please confirm that repo_id is what you intended.\n",
      "WARNING! task is not default parameter.\n",
      "                    task was transferred to model_kwargs.\n",
      "                    Please confirm that task is what you intended.\n",
      "WARNING! huggingfacehub_api_token is not default parameter.\n",
      "                    huggingfacehub_api_token was transferred to model_kwargs.\n",
      "                    Please confirm that huggingfacehub_api_token is what you intended.\n"
     ]
    }
   ],
   "source": [
    "#loading the hugginFace LLM\n",
    "llm = HuggingFaceHub(\n",
    "    repo_id= model_id,\n",
    "    task=\"text-generation\",\n",
    "    # huggingfacehub_api_token = hf_token,\n",
    "    model_kwargs={\n",
    "        \"max_new_tokens\": 512,\n",
    "        \"top_k\": 30,\n",
    "        \"temperature\": 0.1,\n",
    "        \"repetition_penalty\": 1.03,\n",
    "    },\n",
    ")\n",
    "chat_model = ChatHuggingFace(llm=llm, token = False)"
   ]
  },
  {
   "cell_type": "code",
   "execution_count": 46,
   "id": "6f08ca6e-5988-429b-8c83-573527b023aa",
   "metadata": {},
   "outputs": [],
   "source": [
    "##1- Text File Loading\n",
    "loader = PyPDFLoader(pdfPath)"
   ]
  },
  {
   "cell_type": "code",
   "execution_count": null,
   "id": "28f8b3f8-8710-4832-ab05-c75540edfc9d",
   "metadata": {},
   "outputs": [],
   "source": [
    "##STEP 1 and 2\n",
    "try:\n",
    "    \n",
    "    text_splitter = RecursiveCharacterTextSplitter(\n",
    "        chunk_size=2000,  \n",
    "        chunk_overlap=200,\n",
    "        add_start_index=True,\n",
    "        separators=[\"\\n\\n\", \"\\n\", \".\", \" \", \"\"],\n",
    "    )\n",
    "    langchain_docs = loader.load_and_split(text_splitter=text_splitter)\n",
    "except Exception as e:\n",
    "    print(\"An error occurred:\", e)"
   ]
  },
  {
   "cell_type": "code",
   "execution_count": 8,
   "id": "81266917-9d54-4cc8-81ed-40713a2dcc7b",
   "metadata": {},
   "outputs": [
    {
     "name": "stdout",
     "output_type": "stream",
     "text": [
      "37\n"
     ]
    }
   ],
   "source": [
    "##step 3 ------> splits\n",
    "print(len(langchain_docs))"
   ]
  },
  {
   "cell_type": "code",
   "execution_count": 18,
   "id": "f769ff71-fc17-492b-9146-2004dc70338f",
   "metadata": {},
   "outputs": [
    {
     "name": "stdout",
     "output_type": "stream",
     "text": [
      "page_content='5\\nJanuary 2023\\nThird party liability coverage is mandatory for all drivers in Alberta. Each \\nautomobile must be insured for third party liability to a minimum of $200,000.\\nWhat is Third Party Liability Insurance?\\nThird party liability insurance is designed to protect you (the insured) from financial \\nruin should you be responsible for an accident, and cause injury to others or \\ndamage to their property. Liability coverage is mandatory to ensure that accident \\nvictims have access to funds to compensate them for losses suffered in accidents. \\nHow it Works\\nWhen you buy third party liability insurance, if you are responsible for an accident \\nthat causes loss (personal injury or property damage), your insurance company \\nagrees to defend you against claims and to pay amounts you might owe to the \\nother party, up to the limit of the policy. Many people choose to top up their \\ninsurance policies above the provincial minimum to protect themselves from \\ndamages claims in the case of a serious injury like a brain or spinal cord injury.\\nYour insurance company (your insurer), under the terms of the SPF 1, \\nis your agent for the purposes of defending claims. This means that \\nyour insurer also has the power to settle claims made against you.\\nWhile an accident victim technically has a claim against the at-fault driver (and \\nif suing, must sue the at-fault driver rather than the insurer), his/her lawyer \\nwill most often deal with the at-fault driver’s insurance company to access \\ncompensation under Section A of the at-fault driver’s insurance policy.Alberta Standard Automobile Policy (SPF 1)\\nSection A: Third Party Liability – MandatorySECTION A' metadata={'source': 'law.pdf', 'page': 6, 'start_index': 0}\n"
     ]
    }
   ],
   "source": [
    "context = random.choice(langchain_docs)\n",
    "print(context)"
   ]
  },
  {
   "cell_type": "code",
   "execution_count": 21,
   "id": "27d10bd5-dfb0-433b-b670-c518e433a496",
   "metadata": {},
   "outputs": [
    {
     "name": "stdout",
     "output_type": "stream",
     "text": [
      "<s>[INST] \n",
      "Your task is to develop factoid questions and  answers from  a given context.\n",
      "Your factoid question should be answerable with a specific, concise piece of factual information from the context.\n",
      "Your factoid question should be formulated in the same style as questions users could ask in a search engine.\n",
      "This means that your factoid question MUST NOT mention something like \"according to the passage\" or \"context\".\n",
      "\n",
      "Provide your answer as follows:\n",
      "\n",
      "Output:::\n",
      "Factoid question: (your factoid question)\n",
      "Answer: (your answer to the factoid question)\n",
      "\n",
      "\n",
      "\n",
      "Now here is the context.\n",
      "\n",
      "Context: page_content='5\\nJanuary 2023\\nThird party liability coverage is mandatory for all drivers in Alberta. Each \\nautomobile must be insured for third party liability to a minimum of $200,000.\\nWhat is Third Party Liability Insurance?\\nThird party liability insurance is designed to protect you (the insured) from financial \\nruin should you be responsible for an accident, and cause injury to others or \\ndamage to their property. Liability coverage is mandatory to ensure that accident \\nvictims have access to funds to compensate them for losses suffered in accidents. \\nHow it Works\\nWhen you buy third party liability insurance, if you are responsible for an accident \\nthat causes loss (personal injury or property damage), your insurance company \\nagrees to defend you against claims and to pay amounts you might owe to the \\nother party, up to the limit of the policy. Many people choose to top up their \\ninsurance policies above the provincial minimum to protect themselves from \\ndamages claims in the case of a serious injury like a brain or spinal cord injury.\\nYour insurance company (your insurer), under the terms of the SPF 1, \\nis your agent for the purposes of defending claims. This means that \\nyour insurer also has the power to settle claims made against you.\\nWhile an accident victim technically has a claim against the at-fault driver (and \\nif suing, must sue the at-fault driver rather than the insurer), his/her lawyer \\nwill most often deal with the at-fault driver’s insurance company to access \\ncompensation under Section A of the at-fault driver’s insurance policy.Alberta Standard Automobile Policy (SPF 1)\\nSection A: Third Party Liability – MandatorySECTION A' metadata={'source': 'law.pdf', 'page': 6, 'start_index': 0}\n",
      "\n",
      "Output::: [/INST] Factoid question: What is the minimum third party liability coverage required for drivers in Alberta?\n",
      "Answer: The minimum third party liability coverage required for drivers in Alberta is $200,000.\n"
     ]
    }
   ],
   "source": [
    "##step 4 ---------> \n",
    "##Question Answer Generation LLM Agent\n",
    "from langchain.prompts import ChatPromptTemplate\n",
    "QA_generation_prompt = \"\"\"\n",
    "Your task is to develop factoid questions and  answers from  a given context.\n",
    "Your factoid question should be answerable with a specific, concise piece of factual information from the context.\n",
    "Your factoid question should be formulated in the same style as questions users could ask in a search engine.\n",
    "This means that your factoid question MUST NOT mention something like \"according to the passage\" or \"context\".\n",
    "\n",
    "Provide your answer as follows:\n",
    "\n",
    "Output:::\n",
    "Factoid question: (your factoid question)\n",
    "Answer: (your answer to the factoid question)\n",
    "\n",
    "\n",
    "\n",
    "Now here is the context.\n",
    "\n",
    "Context: {context}\\n\n",
    "Output:::\"\"\"\n",
    "\n",
    "QA_generation_prompt = ChatPromptTemplate.from_template(QA_generation_prompt)\n",
    "QA_generation_agent = QA_generation_prompt | chat_model\n",
    "output_QA_couple = QA_generation_agent.invoke({\"context\": context.page_content}).content\n",
    "print(\"Output from the LLM to the INPUT prompt-----------------\")\n",
    "print(output_QA_couple)\n"
   ]
  },
  {
   "cell_type": "code",
   "execution_count": 32,
   "id": "3cd865db-ea75-417b-9329-1dc73eef1b4d",
   "metadata": {},
   "outputs": [
    {
     "name": "stdout",
     "output_type": "stream",
     "text": [
      "question Generated : What is the minimum third party liability coverage required for drivers in Alberta?\n",
      "\n",
      "answer Generated : The minimum third party liability coverage required for drivers in Alberta is $200,000.\n"
     ]
    }
   ],
   "source": [
    "#Exatracting the question and Answer from the Model Output\n",
    "question = output_QA_couple.split(\"Factoid question: \")[2].split(\"Answer: \")[0]\n",
    "answer = output_QA_couple.split(\"Answer: \")[2]\n",
    "datapoint ={ \"context\": context.page_content,\n",
    "             \"question\": question,\n",
    "             \"answer\": answer,\n",
    "             \"source_doc\": context.metadata[\"source\"],\n",
    "            }\n",
    "print(f\"question Generated : {question}\")\n",
    "print(f\"answer Generated : {answer}\")"
   ]
  },
  {
   "cell_type": "code",
   "execution_count": 23,
   "id": "3be88766-7285-439a-9f60-b464e8e43e57",
   "metadata": {},
   "outputs": [
    {
     "name": "stdout",
     "output_type": "stream",
     "text": [
      "<s>[INST] \n",
      "You will be given a context and a question.\n",
      "Your task is to provide a 'total rating' scoring how well one can answer the given question unambiguously with the given context.\n",
      "Give your answer on a scale of 1 to 5, where 1 means that the question is not answerable at all given the context, and 5 means that the question is clearly and unambiguously answerable with the context.\n",
      "\n",
      "Provide your answer as follows:\n",
      "\n",
      "Answer:::\n",
      "Evaluation: (your rationale for the rating)\n",
      "Total rating: (your rating)\n",
      "\n",
      "Now here are the question and context.\n",
      "\n",
      "Question: What is the minimum third party liability coverage required for drivers in Alberta?\n",
      "\n",
      "\n",
      "Context: 5\n",
      "January 2023\n",
      "Third party liability coverage is mandatory for all drivers in Alberta. Each \n",
      "automobile must be insured for third party liability to a minimum of $200,000.\n",
      "What is Third Party Liability Insurance?\n",
      "Third party liability insurance is designed to protect you (the insured) from financial \n",
      "ruin should you be responsible for an accident, and cause injury to others or \n",
      "damage to their property. Liability coverage is mandatory to ensure that accident \n",
      "victims have access to funds to compensate them for losses suffered in accidents. \n",
      "How it Works\n",
      "When you buy third party liability insurance, if you are responsible for an accident \n",
      "that causes loss (personal injury or property damage), your insurance company \n",
      "agrees to defend you against claims and to pay amounts you might owe to the \n",
      "other party, up to the limit of the policy. Many people choose to top up their \n",
      "insurance policies above the provincial minimum to protect themselves from \n",
      "damages claims in the case of a serious injury like a brain or spinal cord injury.\n",
      "Your insurance company (your insurer), under the terms of the SPF 1, \n",
      "is your agent for the purposes of defending claims. This means that \n",
      "your insurer also has the power to settle claims made against you.\n",
      "While an accident victim technically has a claim against the at-fault driver (and \n",
      "if suing, must sue the at-fault driver rather than the insurer), his/her lawyer \n",
      "will most often deal with the at-fault driver’s insurance company to access \n",
      "compensation under Section A of the at-fault driver’s insurance policy.Alberta Standard Automobile Policy (SPF 1)\n",
      "Section A: Third Party Liability – MandatorySECTION A\n",
      "\n",
      "Answer:::  [/INST] The context provides clear and unambiguous information about the minimum third party liability coverage required for drivers in Alberta. It explicitly states that \"Each automobile must be insured for third party liability to a minimum of $200,000.\" Therefore, the answer to the question is directly provided in the context.\n",
      "\n",
      "Evaluation: (The context clearly and unambiguously answers the question.)\n",
      "\n",
      "Total rating: 5\n"
     ]
    }
   ],
   "source": [
    "##STEP 5--------------\n",
    "## groundedness_agent\n",
    "question_groundedness_critique_prompt = \"\"\"\n",
    "You will be given a context and a question.\n",
    "Your task is to provide a 'total rating' scoring how well one can answer the given question unambiguously with the given context.\n",
    "Give your answer on a scale of 1 to 5, where 1 means that the question is not answerable at all given the context, and 5 means that the question is clearly and unambiguously answerable with the context.\n",
    "\n",
    "Provide your answer as follows:\n",
    "\n",
    "Answer:::\n",
    "Evaluation: (your rationale for the rating)\n",
    "Total rating: (your rating)\n",
    "\n",
    "Now here are the question and context.\n",
    "\n",
    "Question: {question}\\n\n",
    "Context: {context}\\n\n",
    "Answer::: \"\"\"\n",
    "\n",
    "question_groundedness_critique_prompt = ChatPromptTemplate.from_template(\n",
    "    question_groundedness_critique_prompt\n",
    ")\n",
    "question_groundedness_critique_agent = question_groundedness_critique_prompt | chat_model\n",
    "\n",
    "# Critique the generated QA couple\n",
    "question_groundedness_evaluation = question_groundedness_critique_agent.invoke(\n",
    "    {\"context\": context.page_content, \"question\": question}\n",
    ").content\n",
    "print(question_groundedness_evaluation)"
   ]
  },
  {
   "cell_type": "code",
   "execution_count": 33,
   "id": "c8c06715-dde2-4c91-a146-d15823e91da3",
   "metadata": {},
   "outputs": [
    {
     "name": "stdout",
     "output_type": "stream",
     "text": [
      "groundedness_score: 5\n",
      "groundedness_eval: (The context clearly and unambiguously answers the question.)\n",
      "\n",
      "\n"
     ]
    }
   ],
   "source": [
    "##Extracting the Evaluation and Evaluation Score, this can cause error \n",
    "groundedness_score = int(question_groundedness_evaluation.split(\"Total rating: \")[2][0])\n",
    "groundedness_eval = question_groundedness_evaluation.split(\"Total rating: \")[1].split(\n",
    "            \"Evaluation: \"\n",
    "    )[1]\n",
    "datapoint.update(\n",
    "            {\n",
    "                \"groundedness_score\": groundedness_score,\n",
    "                \"groundedness_eval\": groundedness_eval,\n",
    "            }\n",
    "        )\n",
    "print(f\"groundedness_score: {groundedness_score}\")\n",
    "print(f\"groundedness_eval: {groundedness_eval}\")"
   ]
  },
  {
   "cell_type": "code",
   "execution_count": 35,
   "id": "0c2bead5-3828-4663-82ee-2a6d6bf62289",
   "metadata": {},
   "outputs": [
    {
     "name": "stdout",
     "output_type": "stream",
     "text": [
      "<s>[INST] \n",
      "You will be given a question.\n",
      "Your task is to provide a 'total rating' representing how useful this question can be to  Car Accident Legal Guide\n",
      "\n",
      "Give your answer on a scale of 1 to 5, where 1 means that the question is not useful at all, and 5 means that the question is extremely useful.\n",
      "\n",
      "Provide your answer as follows:\n",
      "\n",
      "Answer:::\n",
      "Evaluation: (your rationale for the rating)\n",
      "Total rating: (your rating)\n",
      "\n",
      "Now here is the question.\n",
      "\n",
      "Question: What is the minimum third party liability coverage required for drivers in Alberta?\n",
      "\n",
      "\n",
      "Answer:::  [/INST] Evaluation: This question is extremely useful for a Car Accident Legal Guide as it relates to the legal requirements for drivers in Alberta. Knowing the minimum third-party liability coverage required by law is essential information for drivers to ensure they are in compliance with the law and to understand the level of coverage they have in the event of an accident. This information is also important for victims of car accidents to determine if the at-fault driver has sufficient insurance coverage to compensate them for their injuries and damages.\n",
      "\n",
      "Total rating: 5\n"
     ]
    }
   ],
   "source": [
    "# step 6----------\n",
    "question_relevance_critique_prompt = \"\"\"\n",
    "You will be given a question.\n",
    "Your task is to provide a 'total rating' representing how useful this question can be to  {title}\\n\n",
    "Give your answer on a scale of 1 to 5, where 1 means that the question is not useful at all, and 5 means that the question is extremely useful.\n",
    "\n",
    "Provide your answer as follows:\n",
    "\n",
    "Answer:::\n",
    "Evaluation: (your rationale for the rating)\n",
    "Total rating: (your rating)\n",
    "\n",
    "Now here is the question.\n",
    "\n",
    "Question: {question}\\n\n",
    "Answer::: \"\"\"\n",
    "question_relevance_critique_prompt = ChatPromptTemplate.from_template(\n",
    "    question_relevance_critique_prompt\n",
    ")\n",
    "question_relevance_critique_agent = question_relevance_critique_prompt | chat_model\n",
    "question_relevance_evaluation = question_relevance_critique_agent.invoke(\n",
    "        {\"title\": title, \"question\": question}\n",
    "    ).content\n",
    "print(question_relevance_evaluation)"
   ]
  },
  {
   "cell_type": "code",
   "execution_count": 36,
   "id": "9332b4e2-f4a2-4923-9e67-206e005a3763",
   "metadata": {},
   "outputs": [
    {
     "name": "stdout",
     "output_type": "stream",
     "text": [
      "relevance_score: 5\n",
      "relevance_eval : This question is extremely useful for a Car Accident Legal Guide as it relates to the legal requirements for drivers in Alberta. Knowing the minimum third-party liability coverage required by law is essential information for drivers to ensure they are in compliance with the law and to understand the level of coverage they have in the event of an accident. This information is also important for victims of car accidents to determine if the at-fault driver has sufficient insurance coverage to compensate them for their injuries and damages.\n",
      "\n",
      "\n"
     ]
    }
   ],
   "source": [
    "#extracting the relevance_score and eval\n",
    "relevance_score = int(question_relevance_evaluation.split(\"Total rating: \")[2][0])\n",
    "relevance_eval = question_relevance_evaluation.split(\"Total rating: \")[1].split(\n",
    "            \"Evaluation: \"\n",
    ")[1]\n",
    "datapoint.update(\n",
    "            {\n",
    "\n",
    "                \"relevance_score\": relevance_score,\n",
    "                \"relevance_eval\": relevance_eval,\n",
    "            }\n",
    "        )\n",
    "print(f\"relevance_score: {relevance_score}\")\n",
    "print(f\"relevance_eval : {relevance_eval}\")"
   ]
  },
  {
   "cell_type": "code",
   "execution_count": 38,
   "id": "9435d3f9-4fb2-43ac-ba87-fa08b17b59b4",
   "metadata": {},
   "outputs": [],
   "source": [
    "generated_questions = pd.DataFrame.from_dict(list(datapoint))"
   ]
  },
  {
   "cell_type": "code",
   "execution_count": 41,
   "id": "fec5cd8a-0b6f-4807-80d5-437f5e420a6d",
   "metadata": {},
   "outputs": [
    {
     "data": {
      "text/html": [
       "<div>\n",
       "<style scoped>\n",
       "    .dataframe tbody tr th:only-of-type {\n",
       "        vertical-align: middle;\n",
       "    }\n",
       "\n",
       "    .dataframe tbody tr th {\n",
       "        vertical-align: top;\n",
       "    }\n",
       "\n",
       "    .dataframe thead th {\n",
       "        text-align: right;\n",
       "    }\n",
       "</style>\n",
       "<table border=\"1\" class=\"dataframe\">\n",
       "  <thead>\n",
       "    <tr style=\"text-align: right;\">\n",
       "      <th></th>\n",
       "      <th>0</th>\n",
       "    </tr>\n",
       "  </thead>\n",
       "  <tbody>\n",
       "    <tr>\n",
       "      <th>0</th>\n",
       "      <td>context</td>\n",
       "    </tr>\n",
       "    <tr>\n",
       "      <th>1</th>\n",
       "      <td>question</td>\n",
       "    </tr>\n",
       "    <tr>\n",
       "      <th>2</th>\n",
       "      <td>answer</td>\n",
       "    </tr>\n",
       "    <tr>\n",
       "      <th>3</th>\n",
       "      <td>source_doc</td>\n",
       "    </tr>\n",
       "    <tr>\n",
       "      <th>4</th>\n",
       "      <td>groundedness_score</td>\n",
       "    </tr>\n",
       "    <tr>\n",
       "      <th>5</th>\n",
       "      <td>groundedness_eval</td>\n",
       "    </tr>\n",
       "    <tr>\n",
       "      <th>6</th>\n",
       "      <td>relevance_score</td>\n",
       "    </tr>\n",
       "    <tr>\n",
       "      <th>7</th>\n",
       "      <td>relevance_eval</td>\n",
       "    </tr>\n",
       "  </tbody>\n",
       "</table>\n",
       "</div>"
      ],
      "text/plain": [
       "                    0\n",
       "0             context\n",
       "1            question\n",
       "2              answer\n",
       "3          source_doc\n",
       "4  groundedness_score\n",
       "5   groundedness_eval\n",
       "6     relevance_score\n",
       "7      relevance_eval"
      ]
     },
     "execution_count": 41,
     "metadata": {},
     "output_type": "execute_result"
    }
   ],
   "source": [
    "generated_questions"
   ]
  },
  {
   "cell_type": "code",
   "execution_count": null,
   "id": "00449779-acdd-4ebe-9b51-d2135ad936ea",
   "metadata": {},
   "outputs": [],
   "source": []
  }
 ],
 "metadata": {
  "kernelspec": {
   "display_name": "Python 3 (ipykernel)",
   "language": "python",
   "name": "python3"
  },
  "language_info": {
   "codemirror_mode": {
    "name": "ipython",
    "version": 3
   },
   "file_extension": ".py",
   "mimetype": "text/x-python",
   "name": "python",
   "nbconvert_exporter": "python",
   "pygments_lexer": "ipython3",
   "version": "3.10.12"
  }
 },
 "nbformat": 4,
 "nbformat_minor": 5
}
