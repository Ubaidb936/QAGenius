{
 "cells": [
  {
   "cell_type": "code",
   "execution_count": 1,
   "id": "19e415ef-cbc5-4538-aeb1-ed011c0d0692",
   "metadata": {},
   "outputs": [
    {
     "name": "stderr",
     "output_type": "stream",
     "text": [
      "/usr/local/lib/python3.10/dist-packages/langchain_core/_api/deprecation.py:117: LangChainDeprecationWarning: The class `langchain_community.llms.huggingface_hub.HuggingFaceHub` was deprecated in langchain-community 0.0.21 and will be removed in 0.2.0. Use HuggingFaceEndpoint instead.\n",
      "  warn_deprecated(\n",
      "/usr/local/lib/python3.10/dist-packages/langchain_core/_api/deprecation.py:117: LangChainDeprecationWarning: The class `langchain_community.llms.huggingface_text_gen_inference.HuggingFaceTextGenInference` was deprecated in langchain-community 0.0.21 and will be removed in 0.2.0. Use HuggingFaceEndpoint instead.\n",
      "  warn_deprecated(\n",
      "WARNING! repo_id is not default parameter.\n",
      "                    repo_id was transferred to model_kwargs.\n",
      "                    Please confirm that repo_id is what you intended.\n",
      "WARNING! task is not default parameter.\n",
      "                    task was transferred to model_kwargs.\n",
      "                    Please confirm that task is what you intended.\n",
      "WARNING! huggingfacehub_api_token is not default parameter.\n",
      "                    huggingfacehub_api_token was transferred to model_kwargs.\n",
      "                    Please confirm that huggingfacehub_api_token is what you intended.\n"
     ]
    }
   ],
   "source": [
    "#Imports\n",
    "import config \n",
    "import shutil\n",
    "import requests\n",
    "from urllib.parse import urlparse\n",
    "import config\n",
    "import sys\n",
    "from tqdm.notebook import tqdm\n",
    "import pandas as pd\n",
    "from typing import Optional, List, Tuple\n",
    "from langchain_core.language_models import BaseChatModel\n",
    "import json\n",
    "import datasets\n",
    "from langchain.text_splitter import RecursiveCharacterTextSplitter\n",
    "from langchain.docstore.document import Document as LangchainDocument\n",
    "from langchain_community.document_loaders import PyPDFLoader\n",
    "from langchain_community.llms import HuggingFaceHub\n",
    "from langchain_community.chat_models import ChatHuggingFace\n",
    "import os\n",
    "import random\n",
    "import time\n",
    "from datasets import Dataset, DatasetDict\n",
    "\n",
    "pdfPath = config.pdfPath\n",
    "hf_token = config.hf_token\n",
    "model_id = config.model_id\n",
    "title = config.title\n",
    "file_path = config.file_path\n",
    "##ensuring the config.py variables are set\n",
    "if pdfPath is None:\n",
    "    raise ValueError(\"pdfPath is None. Please set the  pdf path in config.py.\")\n",
    "\n",
    "if hf_token is None:\n",
    "    raise ValueError(\"hf_token is None. Please set the huggingFace token in config.py.\")\n",
    "\n",
    "if model_id is None:\n",
    "    raise ValueError(\"model_id is None. Please set the model_id in config.py.\")\n",
    "\n",
    "if title is None:\n",
    "    raise ValueError(\"title is None. Please set the title of the Pdf in config.py.\")\n",
    "\n",
    "if file_path is None:\n",
    "    raise ValueError(\"file_path is None. Please set the local file_path in config.py.\")\n",
    "\n",
    "\n",
    "os.environ['HUGGINGFACEHUB_API_TOKEN'] = hf_token\n",
    "\n",
    "#loading the hugginFace LLM\n",
    "llm = HuggingFaceHub(\n",
    "    repo_id= model_id,\n",
    "    task=\"text-generation\",\n",
    "    # huggingfacehub_api_token = hf_token,\n",
    "    model_kwargs={\n",
    "        \"max_new_tokens\": 512,\n",
    "        \"top_k\": 30,\n",
    "        \"temperature\": 0.1,\n",
    "        \"repetition_penalty\": 1.03,\n",
    "    },\n",
    ")\n",
    "chat_model = ChatHuggingFace(llm=llm, token = False)"
   ]
  },
  {
   "cell_type": "code",
   "execution_count": null,
   "id": "6d89d44b-bfc6-4876-95fa-f4cc24ab4b50",
   "metadata": {},
   "outputs": [],
   "source": []
  },
  {
   "cell_type": "code",
   "execution_count": null,
   "id": "c9b48aa0-68de-49cb-9916-a27bc3d5a420",
   "metadata": {},
   "outputs": [],
   "source": []
  },
  {
   "cell_type": "code",
   "execution_count": null,
   "id": "50c46b6e-4730-4f26-add1-636215160b40",
   "metadata": {},
   "outputs": [],
   "source": []
  },
  {
   "cell_type": "code",
   "execution_count": null,
   "id": "0775979b-c9e8-46b4-ad8d-c179d8ad933f",
   "metadata": {},
   "outputs": [],
   "source": []
  },
  {
   "cell_type": "raw",
   "id": "912bf6fd-a533-4020-9647-7d5d459c9d71",
   "metadata": {},
   "source": [
    "                                             Walking through a Single Data Point Generation"
   ]
  },
  {
   "cell_type": "markdown",
   "id": "4af5beff-a88d-468e-8099-9ff9ecf87c62",
   "metadata": {},
   "source": [
    "1- Loading a Text File"
   ]
  },
  {
   "cell_type": "code",
   "execution_count": 2,
   "id": "6f08ca6e-5988-429b-8c83-573527b023aa",
   "metadata": {},
   "outputs": [],
   "source": [
    "loader = PyPDFLoader(pdfPath) #I am Loading Pdf Here"
   ]
  },
  {
   "cell_type": "code",
   "execution_count": null,
   "id": "dc9cc163-6925-43ac-ad34-faa2818ebec4",
   "metadata": {},
   "outputs": [],
   "source": []
  },
  {
   "cell_type": "code",
   "execution_count": null,
   "id": "b646badd-c278-450b-aa23-d89af9bdd300",
   "metadata": {},
   "outputs": [],
   "source": []
  },
  {
   "cell_type": "code",
   "execution_count": null,
   "id": "a758487a-50d4-4d7d-871b-4c831841777e",
   "metadata": {},
   "outputs": [],
   "source": []
  },
  {
   "cell_type": "markdown",
   "id": "abbccce4-2a39-4e18-8038-d75b94aa0734",
   "metadata": {},
   "source": [
    "2- Splitting the Text File Into Splits"
   ]
  },
  {
   "cell_type": "code",
   "execution_count": 3,
   "id": "28f8b3f8-8710-4832-ab05-c75540edfc9d",
   "metadata": {},
   "outputs": [],
   "source": [
    "text_splitter = RecursiveCharacterTextSplitter(\n",
    "        chunk_size=2000,  \n",
    "        chunk_overlap=200,\n",
    "        add_start_index=True,\n",
    "        separators=[\"\\n\\n\", \"\\n\", \".\", \" \", \"\"],\n",
    "    )\n",
    "try:\n",
    "    langchain_docs = loader.load_and_split(text_splitter=text_splitter)\n",
    "except Exception as e:\n",
    "    print(\"An error occurred:\", e)"
   ]
  },
  {
   "cell_type": "code",
   "execution_count": 4,
   "id": "fbe500c9-8e97-48c2-a792-56deeb9a6ee9",
   "metadata": {},
   "outputs": [
    {
     "name": "stdout",
     "output_type": "stream",
     "text": [
      "Number of Splits are : 37\n"
     ]
    }
   ],
   "source": [
    "#Logging the Number of the Splits Generated from the Text File Uploaded...\n",
    "print(f\"Number of Splits are : {len(langchain_docs)}\")"
   ]
  },
  {
   "cell_type": "code",
   "execution_count": null,
   "id": "ece3a999-3052-4560-87fd-9b09143f34aa",
   "metadata": {},
   "outputs": [],
   "source": []
  },
  {
   "cell_type": "code",
   "execution_count": null,
   "id": "cafc4f2a-068d-48cb-ae2c-ec6cada7b2ff",
   "metadata": {},
   "outputs": [],
   "source": []
  },
  {
   "cell_type": "code",
   "execution_count": null,
   "id": "f4b50e35-ae7c-460e-921e-b9ef3fd9909a",
   "metadata": {},
   "outputs": [],
   "source": []
  },
  {
   "cell_type": "markdown",
   "id": "dd215f58-6912-49de-8010-9b87914b66b4",
   "metadata": {},
   "source": [
    "3- Splits: Each Split will serve as a context to the LLM for Developing Question and Answer"
   ]
  },
  {
   "cell_type": "code",
   "execution_count": 5,
   "id": "f769ff71-fc17-492b-9146-2004dc70338f",
   "metadata": {},
   "outputs": [
    {
     "name": "stdout",
     "output_type": "stream",
     "text": [
      "12\n",
      "January 2023\n",
      "Motor Vehicle Accident Claims Fund\n",
      "If you don’t have private medical insurance \n",
      "and you have exhausted all of the benefits \n",
      "available to you under the Section B \n",
      "portion of your automobile policy, you \n",
      "may be able to obtain coverage for \n",
      "further medical expenses by making an \n",
      "application to the Motor Vehicle Accident \n",
      "Claims Fund. This is a fund set up by the \n",
      "Government of Alberta to help people \n",
      "injured in motor vehicle accidents who \n",
      "need medical treatment but don’t have \n",
      "any other form of insurance coverage for \n",
      "medical expenses available to them.\n",
      "If the accident was caused by someone \n",
      "else’s negligence, any expenses not \n",
      "covered by one or more of the sources \n",
      "noted above can be claimed in a personal \n",
      "injury action brought against the at-fault \n",
      "party or parties.\n",
      "3. WAGE REPLACEMENT/DISABILITY \n",
      "BENEFITS\n",
      "Not being able to work for a period of \n",
      "time because of injuries sustained in \n",
      "an accident, can cause you extreme \n",
      "financial hardship. Fortunately, there \n",
      "are several sources of compensation \n",
      "available to you for loss of income \n",
      "that results from your injuries.\n",
      "Again, the first place to look for coverage \n",
      "for any loss of income is any private \n",
      "insurance you have personally, through your employer, or through an immediate \n",
      "family member.\n",
      "If no private insurance is available, or if \n",
      "you are not being fully reimbursed for \n",
      "your lost income by a private insurer, you \n",
      "should look to your Section B insurer (see \n",
      "discussion of Section B benefits in the \n",
      "Standard Automobile Policy section of this \n",
      "brochure) for further wage replacement \n",
      "benefits.\n",
      "Other possible avenues that can  \n",
      "be explored in relation to disability  \n",
      "benefits are:\n",
      " fEmployment Insurance —  \n",
      "Disability Benefits\n",
      " fCanada Pension Plan —  \n",
      "Disability Benefits\n",
      " fAssured Income for the Severely \n",
      "Handicapped (AISH) Benefits\n",
      "As with medical expenses, if you bring a \n",
      "personal injury action against the party \n",
      "or parties responsible for the accident, \n",
      "you will be entitled to claim for any loss\n"
     ]
    }
   ],
   "source": [
    "#Selecting a Random Split which serves as a context for developing QNA\n",
    "context = random.choice(langchain_docs)\n",
    "print(context.page_content)"
   ]
  },
  {
   "cell_type": "code",
   "execution_count": null,
   "id": "467a1544-5d47-48cf-b01f-65179b679727",
   "metadata": {},
   "outputs": [],
   "source": []
  },
  {
   "cell_type": "code",
   "execution_count": null,
   "id": "86e51994-6a8e-4c22-b5b1-a0ab433cb099",
   "metadata": {},
   "outputs": [],
   "source": []
  },
  {
   "cell_type": "code",
   "execution_count": null,
   "id": "01ea27ea-2070-4784-9f33-bb1a39de1d67",
   "metadata": {},
   "outputs": [],
   "source": []
  },
  {
   "cell_type": "markdown",
   "id": "13786f9d-6222-446d-a50d-19f5c798b9a7",
   "metadata": {},
   "source": [
    "4- Question Answer Generation LLM Agent (Agent1)"
   ]
  },
  {
   "cell_type": "code",
   "execution_count": 6,
   "id": "27d10bd5-dfb0-433b-b670-c518e433a496",
   "metadata": {},
   "outputs": [
    {
     "name": "stdout",
     "output_type": "stream",
     "text": [
      "Context: 12\n",
      "January 2023\n",
      "Motor Vehicle Accident Claims Fund\n",
      "If you don’t have private medical insurance \n",
      "and you have exhausted all of the benefits \n",
      "available to you under the Section B \n",
      "portion of your automobile policy, you \n",
      "may be able to obtain coverage for \n",
      "further medical expenses by making an \n",
      "application to the Motor Vehicle Accident \n",
      "Claims Fund. This is a fund set up by the \n",
      "Government of Alberta to help people \n",
      "injured in motor vehicle accidents who \n",
      "need medical treatment but don’t have \n",
      "any other form of insurance coverage for \n",
      "medical expenses available to them.\n",
      "If the accident was caused by someone \n",
      "else’s negligence, any expenses not \n",
      "covered by one or more of the sources \n",
      "noted above can be claimed in a personal \n",
      "injury action brought against the at-fault \n",
      "party or parties.\n",
      "3. WAGE REPLACEMENT/DISABILITY \n",
      "BENEFITS\n",
      "Not being able to work for a period of \n",
      "time because of injuries sustained in \n",
      "an accident, can cause you extreme \n",
      "financial hardship. Fortunately, there \n",
      "are several sources of compensation \n",
      "available to you for loss of income \n",
      "that results from your injuries.\n",
      "Again, the first place to look for coverage \n",
      "for any loss of income is any private \n",
      "insurance you have personally, through your employer, or through an immediate \n",
      "family member.\n",
      "If no private insurance is available, or if \n",
      "you are not being fully reimbursed for \n",
      "your lost income by a private insurer, you \n",
      "should look to your Section B insurer (see \n",
      "discussion of Section B benefits in the \n",
      "Standard Automobile Policy section of this \n",
      "brochure) for further wage replacement \n",
      "benefits.\n",
      "Other possible avenues that can  \n",
      "be explored in relation to disability  \n",
      "benefits are:\n",
      " fEmployment Insurance —  \n",
      "Disability Benefits\n",
      " fCanada Pension Plan —  \n",
      "Disability Benefits\n",
      " fAssured Income for the Severely \n",
      "Handicapped (AISH) Benefits\n",
      "As with medical expenses, if you bring a \n",
      "personal injury action against the party \n",
      "or parties responsible for the accident, \n",
      "you will be entitled to claim for any loss\n",
      "\n",
      "\n",
      "question Generated : Who can provide compensation for loss of income resulting from injuries sustained in a motor vehicle accident?\n",
      "\n",
      "answer Generated : The first place to look for coverage for any loss of income is any private insurance you have personally, through your employer, or through an immediate family member. If no private insurance is available, or if you are not being fully reimbursed for your lost income by a private insurer, you should look to your Section B insurer for further wage replacement benefits. Other possible avenues that can be explored in relation to disability benefits are Employment Insurance — Disability Benefits, Canada Pension Plan — Disability Benefits, and Assured Income for the Severely Handicapped (AISH) Benefits\n"
     ]
    }
   ],
   "source": [
    "from langchain.prompts import ChatPromptTemplate\n",
    "QA_generation_prompt = \"\"\"\n",
    "Your task is to develop factoid questions and  answers from  a given context.\n",
    "Your factoid question should be answerable with a specific, concise piece of factual information from the context.\n",
    "Your factoid question should be formulated in the same style as questions users could ask in a search engine.\n",
    "This means that your factoid question MUST NOT mention something like \"according to the passage\" or \"context\".\n",
    "\n",
    "Provide your answer as follows:\n",
    "\n",
    "Output:::\n",
    "Factoid question: (your factoid question)\n",
    "Answer: (your answer to the factoid question)\n",
    "\n",
    "\n",
    "\n",
    "Now here is the context.\n",
    "\n",
    "Context: {context}\\n\n",
    "Output:::\"\"\"\n",
    "\n",
    "QA_generation_prompt = ChatPromptTemplate.from_template(QA_generation_prompt)\n",
    "QA_generation_agent = QA_generation_prompt | chat_model\n",
    "output_QA_couple = QA_generation_agent.invoke({\"context\": context.page_content}).content\n",
    "# print(\"Output from the LLM to the INPUT prompt-----------------\")\n",
    "# print(output_QA_couple)\n",
    "question = output_QA_couple.split(\"Factoid question: \")[2].split(\"Answer: \")[0]\n",
    "answer = output_QA_couple.split(\"Answer: \")[2]\n",
    "index = answer.find(\"Factoid question:\")\n",
    "answer = answer[:index].strip()\n",
    "datapoint = { \"context\": context.page_content,\n",
    "             \"question\": question,\n",
    "             \"answer\": answer,\n",
    "             \"source_doc\": context.metadata[\"source\"],\n",
    "            }\n",
    "print(f\"Context: {context.page_content}\\n\\n\")\n",
    "print(f\"question Generated : {question}\")\n",
    "print(f\"answer Generated : {answer}\")"
   ]
  },
  {
   "cell_type": "code",
   "execution_count": null,
   "id": "8bca5b76-6653-491d-8503-ffcdc6b91583",
   "metadata": {},
   "outputs": [],
   "source": []
  },
  {
   "cell_type": "code",
   "execution_count": null,
   "id": "93c47279-c947-409a-88d2-15a683baa8fd",
   "metadata": {},
   "outputs": [],
   "source": []
  },
  {
   "cell_type": "code",
   "execution_count": null,
   "id": "2da49393-70d9-406d-a388-90cbb390bda7",
   "metadata": {},
   "outputs": [],
   "source": []
  },
  {
   "cell_type": "markdown",
   "id": "50e16ba5-7f50-4c44-bf1f-f4fb642be53c",
   "metadata": {},
   "source": [
    "5- groundedness Score Generation LLM Agent"
   ]
  },
  {
   "cell_type": "code",
   "execution_count": 7,
   "id": "3be88766-7285-439a-9f60-b464e8e43e57",
   "metadata": {},
   "outputs": [
    {
     "name": "stdout",
     "output_type": "stream",
     "text": [
      "Context: 12\n",
      "January 2023\n",
      "Motor Vehicle Accident Claims Fund\n",
      "If you don’t have private medical insurance \n",
      "and you have exhausted all of the benefits \n",
      "available to you under the Section B \n",
      "portion of your automobile policy, you \n",
      "may be able to obtain coverage for \n",
      "further medical expenses by making an \n",
      "application to the Motor Vehicle Accident \n",
      "Claims Fund. This is a fund set up by the \n",
      "Government of Alberta to help people \n",
      "injured in motor vehicle accidents who \n",
      "need medical treatment but don’t have \n",
      "any other form of insurance coverage for \n",
      "medical expenses available to them.\n",
      "If the accident was caused by someone \n",
      "else’s negligence, any expenses not \n",
      "covered by one or more of the sources \n",
      "noted above can be claimed in a personal \n",
      "injury action brought against the at-fault \n",
      "party or parties.\n",
      "3. WAGE REPLACEMENT/DISABILITY \n",
      "BENEFITS\n",
      "Not being able to work for a period of \n",
      "time because of injuries sustained in \n",
      "an accident, can cause you extreme \n",
      "financial hardship. Fortunately, there \n",
      "are several sources of compensation \n",
      "available to you for loss of income \n",
      "that results from your injuries.\n",
      "Again, the first place to look for coverage \n",
      "for any loss of income is any private \n",
      "insurance you have personally, through your employer, or through an immediate \n",
      "family member.\n",
      "If no private insurance is available, or if \n",
      "you are not being fully reimbursed for \n",
      "your lost income by a private insurer, you \n",
      "should look to your Section B insurer (see \n",
      "discussion of Section B benefits in the \n",
      "Standard Automobile Policy section of this \n",
      "brochure) for further wage replacement \n",
      "benefits.\n",
      "Other possible avenues that can  \n",
      "be explored in relation to disability  \n",
      "benefits are:\n",
      " fEmployment Insurance —  \n",
      "Disability Benefits\n",
      " fCanada Pension Plan —  \n",
      "Disability Benefits\n",
      " fAssured Income for the Severely \n",
      "Handicapped (AISH) Benefits\n",
      "As with medical expenses, if you bring a \n",
      "personal injury action against the party \n",
      "or parties responsible for the accident, \n",
      "you will be entitled to claim for any loss\n",
      "\n",
      "\n",
      "question: Who can provide compensation for loss of income resulting from injuries sustained in a motor vehicle accident?\n",
      "\n",
      "\n",
      "\n",
      "groundedness_score: 5\n",
      "groundedness_eval: Based on the provided context, the answer to the question \"Who can provide compensation for loss of income resulting from injuries sustained in a motor vehicle accident?\" can be unambiguously answered using the mentioned sources.\n",
      "\n",
      "\n"
     ]
    }
   ],
   "source": [
    "question_groundedness_critique_prompt = \"\"\"\n",
    "You will be given a context and a question.\n",
    "Your task is to provide a 'total rating' scoring how well one can answer the given question unambiguously with the given context.\n",
    "Give your answer on a scale of 1 to 5, where 1 means that the question is not answerable at all given the context, \n",
    "and 5 means that the question is clearly and unambiguously answerable with the context.\n",
    "\n",
    "Provide your answer as follows:\n",
    "\n",
    "Answer:::\n",
    "Evaluation: (your rationale for the rating)\n",
    "Total rating: (your rating)\n",
    "\n",
    "Now here are the question and context.\n",
    "\n",
    "Question: {question}\\n\n",
    "Context: {context}\\n\n",
    "Answer::: \"\"\"\n",
    "\n",
    "question_groundedness_critique_prompt = ChatPromptTemplate.from_template(\n",
    "    question_groundedness_critique_prompt\n",
    ")\n",
    "question_groundedness_critique_agent = question_groundedness_critique_prompt | chat_model\n",
    "\n",
    "# Critique the generated QA couple\n",
    "question_groundedness_evaluation = question_groundedness_critique_agent.invoke(\n",
    "    {\"context\": context.page_content, \"question\": question}\n",
    ").content\n",
    "##Extracting the Evaluation and Evaluation Score, this can cause error \n",
    "groundedness_score = int(question_groundedness_evaluation.split(\"Total rating: \")[2][0])\n",
    "groundedness_eval = question_groundedness_evaluation.split(\"Total rating: \")[1].split(\"Evaluation: \")[1]\n",
    "datapoint.update(\n",
    "            {\n",
    "                \"groundedness_score\": groundedness_score,\n",
    "                \"groundedness_eval\": groundedness_eval,\n",
    "            }\n",
    "        )\n",
    "\n",
    "print(f\"Context: {context.page_content}\\n\\n\")\n",
    "print(f\"question: {question}\\n\\n\")\n",
    "print(f\"groundedness_score: {groundedness_score}\")\n",
    "print(f\"groundedness_eval: {groundedness_eval}\")"
   ]
  },
  {
   "cell_type": "code",
   "execution_count": null,
   "id": "0ba7fe69-8b87-4fce-bd07-3da2fe95cb11",
   "metadata": {},
   "outputs": [],
   "source": []
  },
  {
   "cell_type": "code",
   "execution_count": null,
   "id": "c8be7d38-318f-4154-8292-fa007b26f239",
   "metadata": {},
   "outputs": [],
   "source": []
  },
  {
   "cell_type": "code",
   "execution_count": null,
   "id": "c811fb2d-cbf8-4149-9f70-5b1647c227e9",
   "metadata": {},
   "outputs": [],
   "source": []
  },
  {
   "cell_type": "markdown",
   "id": "4c1d13b0-0325-4e4e-8ac9-2c8616170dc6",
   "metadata": {},
   "source": [
    "6 - Relevance Score Generation LLM Agent"
   ]
  },
  {
   "cell_type": "code",
   "execution_count": 8,
   "id": "0c2bead5-3828-4663-82ee-2a6d6bf62289",
   "metadata": {},
   "outputs": [
    {
     "name": "stdout",
     "output_type": "stream",
     "text": [
      "question: Who can provide compensation for loss of income resulting from injuries sustained in a motor vehicle accident?\n",
      "\n",
      "relevance_score: 5\n",
      "relevance_eval : This question is useful for the Car Accident Legal Guide as it addresses an important aspect of car accident claims - compensation for loss of income. The answer explains who is generally responsible for providing such compensation and offers additional information about potential sources of compensation. This knowledge can help users understand their options and potential next steps in pursuing a claim.\n",
      "\n",
      "\n"
     ]
    }
   ],
   "source": [
    "# step 6----------\n",
    "question_relevance_critique_prompt = \"\"\"\n",
    "You will be given a question.\n",
    "Your task is to provide a 'total rating' representing how useful this question can be to  {title}\\n\n",
    "Give your answer on a scale of 1 to 5, where 1 means that the question is not useful at all, and 5 means that the question is extremely useful.\n",
    "\n",
    "Provide your answer as follows:\n",
    "\n",
    "Answer:::\n",
    "Evaluation: (your rationale for the rating)\n",
    "Total rating: (your rating)\n",
    "\n",
    "Now here is the question.\n",
    "\n",
    "Question: {question}\\n\n",
    "Answer::: \"\"\"\n",
    "question_relevance_critique_prompt = ChatPromptTemplate.from_template(\n",
    "    question_relevance_critique_prompt\n",
    ")\n",
    "question_relevance_critique_agent = question_relevance_critique_prompt | chat_model\n",
    "\n",
    "\n",
    "\n",
    "question_relevance_evaluation = question_relevance_critique_agent.invoke(\n",
    "        {\"title\": title, \"question\": question}\n",
    "    ).content\n",
    "\n",
    "\n",
    "#extracting the relevance_score and eval\n",
    "relevance_score = int(question_relevance_evaluation.split(\"Total rating: \")[2][0])\n",
    "relevance_eval = question_relevance_evaluation.split(\"Total rating: \")[1].split(\"Evaluation: \")[1]\n",
    "datapoint.update(\n",
    "            {\n",
    "\n",
    "                \"relevance_score\": relevance_score,\n",
    "                \"relevance_eval\": relevance_eval,\n",
    "            }\n",
    "        )\n",
    "print(f\"question: {question}\")\n",
    "print(f\"relevance_score: {relevance_score}\")\n",
    "print(f\"relevance_eval : {relevance_eval}\")"
   ]
  },
  {
   "cell_type": "code",
   "execution_count": null,
   "id": "e6dc9690-97ad-4574-9a86-971e264b779d",
   "metadata": {},
   "outputs": [],
   "source": []
  },
  {
   "cell_type": "code",
   "execution_count": null,
   "id": "3df9674b-f81d-4f3f-b719-26d6f100dab0",
   "metadata": {},
   "outputs": [],
   "source": []
  },
  {
   "cell_type": "code",
   "execution_count": null,
   "id": "31eb1351-4616-457c-983d-c03408f3abf7",
   "metadata": {},
   "outputs": [],
   "source": []
  },
  {
   "cell_type": "markdown",
   "id": "bdc336dc-c5c1-4dce-a2e1-cca3d718d837",
   "metadata": {},
   "source": [
    "7- Displaying dataPoint Generated......."
   ]
  },
  {
   "cell_type": "code",
   "execution_count": 9,
   "id": "00449779-acdd-4ebe-9b51-d2135ad936ea",
   "metadata": {},
   "outputs": [
    {
     "data": {
      "text/html": [
       "<div>\n",
       "<style scoped>\n",
       "    .dataframe tbody tr th:only-of-type {\n",
       "        vertical-align: middle;\n",
       "    }\n",
       "\n",
       "    .dataframe tbody tr th {\n",
       "        vertical-align: top;\n",
       "    }\n",
       "\n",
       "    .dataframe thead th {\n",
       "        text-align: right;\n",
       "    }\n",
       "</style>\n",
       "<table border=\"1\" class=\"dataframe\">\n",
       "  <thead>\n",
       "    <tr style=\"text-align: right;\">\n",
       "      <th></th>\n",
       "      <th>context</th>\n",
       "      <th>question</th>\n",
       "      <th>answer</th>\n",
       "      <th>source_doc</th>\n",
       "      <th>groundedness_score</th>\n",
       "      <th>groundedness_eval</th>\n",
       "      <th>relevance_score</th>\n",
       "      <th>relevance_eval</th>\n",
       "    </tr>\n",
       "  </thead>\n",
       "  <tbody>\n",
       "    <tr>\n",
       "      <th>0</th>\n",
       "      <td>12\\nJanuary 2023\\nMotor Vehicle Accident Claim...</td>\n",
       "      <td>Who can provide compensation for loss of incom...</td>\n",
       "      <td>The first place to look for coverage for any l...</td>\n",
       "      <td>law.pdf</td>\n",
       "      <td>5</td>\n",
       "      <td>Based on the provided context, the answer to t...</td>\n",
       "      <td>5</td>\n",
       "      <td>This question is useful for the Car Accident L...</td>\n",
       "    </tr>\n",
       "  </tbody>\n",
       "</table>\n",
       "</div>"
      ],
      "text/plain": [
       "                                             context  \\\n",
       "0  12\\nJanuary 2023\\nMotor Vehicle Accident Claim...   \n",
       "\n",
       "                                            question  \\\n",
       "0  Who can provide compensation for loss of incom...   \n",
       "\n",
       "                                              answer source_doc  \\\n",
       "0  The first place to look for coverage for any l...    law.pdf   \n",
       "\n",
       "   groundedness_score                                  groundedness_eval  \\\n",
       "0                   5  Based on the provided context, the answer to t...   \n",
       "\n",
       "   relevance_score                                     relevance_eval  \n",
       "0                5  This question is useful for the Car Accident L...  "
      ]
     },
     "metadata": {},
     "output_type": "display_data"
    }
   ],
   "source": [
    "ls = [datapoint]\n",
    "df = pd.DataFrame(ls)\n",
    "display(df)"
   ]
  },
  {
   "cell_type": "code",
   "execution_count": 10,
   "id": "4e1afd03-f2a5-47c8-a878-75a3b8c81b29",
   "metadata": {},
   "outputs": [
    {
     "data": {
      "application/vnd.jupyter.widget-view+json": {
       "model_id": "09ceb5caacc6475db08ef1dce4e7c6d9",
       "version_major": 2,
       "version_minor": 0
      },
      "text/plain": [
       "Uploading the dataset shards:   0%|          | 0/1 [00:00<?, ?it/s]"
      ]
     },
     "metadata": {},
     "output_type": "display_data"
    },
    {
     "data": {
      "application/vnd.jupyter.widget-view+json": {
       "model_id": "66100f75e7664b6588c6a6f8cf34f896",
       "version_major": 2,
       "version_minor": 0
      },
      "text/plain": [
       "Creating parquet from Arrow format:   0%|          | 0/1 [00:00<?, ?ba/s]"
      ]
     },
     "metadata": {},
     "output_type": "display_data"
    },
    {
     "data": {
      "application/vnd.jupyter.widget-view+json": {
       "model_id": "6f5f2179b669481587c01bd04fd48859",
       "version_major": 2,
       "version_minor": 0
      },
      "text/plain": [
       "README.md:   0%|          | 0.00/555 [00:00<?, ?B/s]"
      ]
     },
     "metadata": {},
     "output_type": "display_data"
    },
    {
     "data": {
      "text/plain": [
       "CommitInfo(commit_url='https://huggingface.co/datasets/Ubaidbhat/QAGeniusPresentation/commit/788496406fe686de3b6c82c16be25ba9ef2ba8ca', commit_message='Upload dataset', commit_description='', oid='788496406fe686de3b6c82c16be25ba9ef2ba8ca', pr_url=None, pr_revision=None, pr_num=None)"
      ]
     },
     "execution_count": 10,
     "metadata": {},
     "output_type": "execute_result"
    }
   ],
   "source": [
    "#save Locally\n",
    "dataset = Dataset.from_pandas(df)\n",
    "dataset.push_to_hub(\"QAGeniusPresentation\")"
   ]
  }
 ],
 "metadata": {
  "kernelspec": {
   "display_name": "Python 3 (ipykernel)",
   "language": "python",
   "name": "python3"
  },
  "language_info": {
   "codemirror_mode": {
    "name": "ipython",
    "version": 3
   },
   "file_extension": ".py",
   "mimetype": "text/x-python",
   "name": "python",
   "nbconvert_exporter": "python",
   "pygments_lexer": "ipython3",
   "version": "3.10.12"
  }
 },
 "nbformat": 4,
 "nbformat_minor": 5
}
